{
 "cells": [
  {
   "cell_type": "markdown",
   "id": "2dbc3fb9",
   "metadata": {},
   "source": [
    "Для выполнения этого задания, давайте начнем с загрузки данных с сайта LIBSVM, создания оракулов для каждого набора данных и запуска методов градиентного спуска и Ньютона на каждом из них. Для удобства работы с данными, мы будем использовать библиотеку scikit-learn.\n",
    "Для начала, загрузим данные и создадим оракулы:"
   ]
  },
  {
   "cell_type": "code",
   "execution_count": 88,
   "id": "6b4696bd",
   "metadata": {},
   "outputs": [
    {
     "ename": "ImportError",
     "evalue": "cannot import name 'newton' from 'optimization' (/Users/airataizhanov/Desktop/RUDN/homework04/optimization.py)",
     "output_type": "error",
     "traceback": [
      "\u001b[0;31m---------------------------------------------------------------------------\u001b[0m",
      "\u001b[0;31mImportError\u001b[0m                               Traceback (most recent call last)",
      "\u001b[1;32m/Users/airataizhanov/Desktop/RUDN/homework04/Experiment_3_Comparison_of_gradient_descent_and_Newton_methods.ipynb Ячейка 2\u001b[0m line \u001b[0;36m9\n\u001b[1;32m      <a href='vscode-notebook-cell:/Users/airataizhanov/Desktop/RUDN/homework04/Experiment_3_Comparison_of_gradient_descent_and_Newton_methods.ipynb#W1sZmlsZQ%3D%3D?line=6'>7</a>\u001b[0m \u001b[39mfrom\u001b[39;00m \u001b[39moracles\u001b[39;00m \u001b[39mimport\u001b[39;00m create_log_reg_oracle\n\u001b[1;32m      <a href='vscode-notebook-cell:/Users/airataizhanov/Desktop/RUDN/homework04/Experiment_3_Comparison_of_gradient_descent_and_Newton_methods.ipynb#W1sZmlsZQ%3D%3D?line=7'>8</a>\u001b[0m \u001b[39mimport\u001b[39;00m \u001b[39mmatplotlib\u001b[39;00m\u001b[39m.\u001b[39;00m\u001b[39mpyplot\u001b[39;00m \u001b[39mas\u001b[39;00m \u001b[39mplt\u001b[39;00m\n\u001b[0;32m----> <a href='vscode-notebook-cell:/Users/airataizhanov/Desktop/RUDN/homework04/Experiment_3_Comparison_of_gradient_descent_and_Newton_methods.ipynb#W1sZmlsZQ%3D%3D?line=8'>9</a>\u001b[0m \u001b[39mfrom\u001b[39;00m \u001b[39moptimization\u001b[39;00m \u001b[39mimport\u001b[39;00m newton\n\u001b[1;32m     <a href='vscode-notebook-cell:/Users/airataizhanov/Desktop/RUDN/homework04/Experiment_3_Comparison_of_gradient_descent_and_Newton_methods.ipynb#W1sZmlsZQ%3D%3D?line=9'>10</a>\u001b[0m \u001b[39mimport\u001b[39;00m \u001b[39mtime\u001b[39;00m\n\u001b[1;32m     <a href='vscode-notebook-cell:/Users/airataizhanov/Desktop/RUDN/homework04/Experiment_3_Comparison_of_gradient_descent_and_Newton_methods.ipynb#W1sZmlsZQ%3D%3D?line=12'>13</a>\u001b[0m \u001b[39m# Загрузка данных\u001b[39;00m\n",
      "\u001b[0;31mImportError\u001b[0m: cannot import name 'newton' from 'optimization' (/Users/airataizhanov/Desktop/RUDN/homework04/optimization.py)"
     ]
    }
   ],
   "source": [
    "import numpy as np\n",
    "from scipy.sparse import csr_matrix\n",
    "from sklearn.datasets import load_svmlight_file\n",
    "from sklearn.preprocessing import LabelEncoder\n",
    "from optimization import gradient_descent\n",
    "\n",
    "from oracles import create_log_reg_oracle\n",
    "import matplotlib.pyplot as plt\n",
    "from optimization import newton\n",
    "import time\n",
    "\n",
    "\n",
    "# Загрузка данных\n",
    "datasets = ['w8a', 'gisette', 'real-sim']\n",
    "results = {}\n",
    "\n",
    "for dataset_name in datasets:\n",
    "    print(f\"Processing {dataset_name} dataset...\")\n",
    "    # Загрузка данных и преобразование их в разреженные матрицы\n",
    "    X, y = load_svmlight_file(f\"data/{dataset_name}\")\n",
    "    X = csr_matrix(X)\n",
    "    encoder = LabelEncoder()\n",
    "    y = encoder.fit_transform(y)\n",
    "    \n",
    "    # Создание оракула\n",
    "    oracle = create_log_reg_oracle(X, y, regcoef=1/X.shape[0])\n",
    "    \n",
    "    # Запуск градиентного спуска\n",
    "    start_time = time.time()\n",
    "    gd_x, _, gd_history = gradient_descent(oracle, np.zeros(X.shape[1]), trace=True)\n",
    "    gd_time = time.time() - start_time\n",
    "    gd_func_values = gd_history['func']\n",
    "    gd_grad_norms = gd_history['grad_norm']\n",
    "    \n",
    "    # Запуск метода Ньютона\n",
    "    start_time = time.time()\n",
    "    nt_x, _, nt_history = newton(oracle, np.zeros(X.shape[1]), trace=True)\n",
    "    nt_time = time.time() - start_time\n",
    "    nt_func_values = nt_history['func']\n",
    "    nt_grad_norms = nt_history['grad_norm']\n",
    "    \n",
    "    results[dataset_name] = {\n",
    "        'gd_time': gd_time,\n",
    "        'gd_func_values': gd_func_values,\n",
    "        'gd_grad_norms': gd_grad_norms,\n",
    "        'nt_time': nt_time,\n",
    "        'nt_func_values': nt_func_values,\n",
    "        'nt_grad_norms': nt_grad_norms\n",
    "    }\n",
    "\n",
    "# Визуализация результатов\n",
    "plt.figure(figsize=(18, 12))\n",
    "\n",
    "for idx, dataset_name in enumerate(datasets, start=1):\n",
    "    plt.subplot(2, len(datasets), idx)\n",
    "    plt.semilogy(np.cumsum(results[dataset_name]['gd_time']), results[dataset_name]['gd_func_values'], label='GD')\n",
    "    plt.semilogy(np.cumsum(results[dataset_name]['nt_time']), results[dataset_name]['nt_func_values'], label='Newton')\n",
    "    plt.xlabel('Time (s)')\n",
    "    plt.ylabel('Function Value')\n",
    "    plt.title(f'{dataset_name} - Function Value')\n",
    "    plt.legend()\n",
    "\n",
    "    plt.subplot(2, len(datasets), len(datasets) + idx)\n",
    "    plt.semilogy(np.cumsum(results[dataset_name]['gd_time']), results[dataset_name]['gd_grad_norms'], label='GD')\n",
    "    plt.semilogy(np.cumsum(results[dataset_name]['nt_time']), results[dataset_name]['nt_grad_norms'], label='Newton')\n",
    "    plt.xlabel('Time (s)')\n",
    "    plt.ylabel('Gradient Norm')\n",
    "    plt.title(f'{dataset_name} - Gradient Norm')\n",
    "    plt.legend()\n",
    "\n",
    "plt.tight_layout()\n",
    "plt.show()\n"
   ]
  }
 ],
 "metadata": {
  "kernelspec": {
   "display_name": "Python 3 (ipykernel)",
   "language": "python",
   "name": "python3"
  },
  "language_info": {
   "codemirror_mode": {
    "name": "ipython",
    "version": 3
   },
   "file_extension": ".py",
   "mimetype": "text/x-python",
   "name": "python",
   "nbconvert_exporter": "python",
   "pygments_lexer": "ipython3",
   "version": "3.9.6"
  }
 },
 "nbformat": 4,
 "nbformat_minor": 5
}
